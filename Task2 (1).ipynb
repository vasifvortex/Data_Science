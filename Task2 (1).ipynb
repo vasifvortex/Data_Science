{
 "cells": [
  {
   "cell_type": "code",
   "execution_count": 3,
   "id": "8ed9a6d7",
   "metadata": {},
   "outputs": [
    {
     "name": "stdout",
     "output_type": "stream",
     "text": [
      "21\t22\t23\t24\t25\n",
      "20\t7\t8\t9\t10\n",
      "19\t6\t1\t2\t11\n",
      "18\t5\t4\t3\t12\n",
      "17\t16\t15\t14\t13\n"
     ]
    }
   ],
   "source": [
    "def generate_center_spiral_matrix(n):\n",
    "    matrix = [[0] * n for _ in range(n)]\n",
    "    center = n // 2\n",
    "    x, y = center, center\n",
    "    \n",
    "    #center\n",
    "    matrix[x][y] = 1\n",
    "    current_value = 2\n",
    "    \n",
    "    #Right, Down, Left, Up\n",
    "    directions = [(0, 1), (1, 0), (0, -1), (-1, 0)]\n",
    "    \n",
    "    step_size = 1\n",
    "    direction_index = 0\n",
    "    while current_value <= n * n:\n",
    "        #move right-down, then left-up\n",
    "        for _ in range(2):\n",
    "            # Move in the current direction 'step_size' times\n",
    "            for _ in range(step_size):\n",
    "                x += directions[direction_index][0]\n",
    "                y += directions[direction_index][1]\n",
    "                \n",
    "                # Check matrix bounds\n",
    "                if 0 <= x < n and 0 <= y < n:\n",
    "                    matrix[x][y] = current_value\n",
    "                    current_value += 1\n",
    "                    \n",
    "            # Change direction after each segment\n",
    "            direction_index = (direction_index + 1) % 4\n",
    "\n",
    "        # After full cycle, increase the step size\n",
    "        step_size += 1\n",
    "\n",
    "    return matrix\n",
    "\n",
    "n = 5\n",
    "matrix = generate_center_spiral_matrix(n)\n",
    "\n",
    "for row in matrix:\n",
    "    print(\"\\t\".join(map(str, row)))"
   ]
  },
  {
   "cell_type": "code",
   "execution_count": 42,
   "id": "01efce2c",
   "metadata": {},
   "outputs": [],
   "source": [
    "#part2"
   ]
  },
  {
   "cell_type": "code",
   "execution_count": 41,
   "id": "a2238909",
   "metadata": {},
   "outputs": [
    {
     "name": "stdout",
     "output_type": "stream",
     "text": [
      "Sum of first dioganal 45 and 2nd dioganal 57\n"
     ]
    }
   ],
   "source": [
    "def sums(matrix):\n",
    "    a=0\n",
    "    b=0\n",
    "    for i in range(n):\n",
    "        #first diagonal\n",
    "        a=a+matrix[i][i]\n",
    "        #2nd\n",
    "        b=b+matrix[i][n-i-1]\n",
    "    return f'Sum of first dioganal {a} and 2nd dioganal {b}'\n",
    "print(sums(matrix))\n",
    "    "
   ]
  },
  {
   "cell_type": "code",
   "execution_count": null,
   "id": "783d2304",
   "metadata": {},
   "outputs": [],
   "source": []
  }
 ],
 "metadata": {
  "kernelspec": {
   "display_name": "Python 3 (ipykernel)",
   "language": "python",
   "name": "python3"
  },
  "language_info": {
   "codemirror_mode": {
    "name": "ipython",
    "version": 3
   },
   "file_extension": ".py",
   "mimetype": "text/x-python",
   "name": "python",
   "nbconvert_exporter": "python",
   "pygments_lexer": "ipython3",
   "version": "3.9.12"
  }
 },
 "nbformat": 4,
 "nbformat_minor": 5
}
