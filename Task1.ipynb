{
 "cells": [
  {
   "cell_type": "code",
   "execution_count": 3,
   "id": "7f3d8c8d",
   "metadata": {},
   "outputs": [],
   "source": [
    "import pandas as pd\n",
    "import numpy as np"
   ]
  },
  {
   "cell_type": "code",
   "execution_count": 5,
   "id": "3cd7e146",
   "metadata": {},
   "outputs": [
    {
     "data": {
      "text/html": [
       "<div>\n",
       "<style scoped>\n",
       "    .dataframe tbody tr th:only-of-type {\n",
       "        vertical-align: middle;\n",
       "    }\n",
       "\n",
       "    .dataframe tbody tr th {\n",
       "        vertical-align: top;\n",
       "    }\n",
       "\n",
       "    .dataframe thead th {\n",
       "        text-align: right;\n",
       "    }\n",
       "</style>\n",
       "<table border=\"1\" class=\"dataframe\">\n",
       "  <thead>\n",
       "    <tr style=\"text-align: right;\">\n",
       "      <th></th>\n",
       "      <th>Review_Date</th>\n",
       "      <th>Review_Text</th>\n",
       "      <th>User_ID</th>\n",
       "      <th>Business_ID</th>\n",
       "      <th>Business_Name</th>\n",
       "      <th>Business_Category</th>\n",
       "      <th>City</th>\n",
       "      <th>State</th>\n",
       "      <th>Latitude</th>\n",
       "      <th>Longitude</th>\n",
       "      <th>Avg_Business_Star_Rating</th>\n",
       "    </tr>\n",
       "  </thead>\n",
       "  <tbody>\n",
       "    <tr>\n",
       "      <th>0</th>\n",
       "      <td>2014-07-16</td>\n",
       "      <td>okay...so so</td>\n",
       "      <td>6VxJJX7h36bMCCFt7URg6w</td>\n",
       "      <td>9QqLqYIwV-n1BJPjnaYv8A</td>\n",
       "      <td>Beef 'O' Brady's</td>\n",
       "      <td>Bars</td>\n",
       "      <td>Chandler</td>\n",
       "      <td>AZ</td>\n",
       "      <td>33.303847</td>\n",
       "      <td>-111.946838</td>\n",
       "      <td>3.5</td>\n",
       "    </tr>\n",
       "    <tr>\n",
       "      <th>1</th>\n",
       "      <td>2014-07-16</td>\n",
       "      <td>Some people complain about the prices but Subw...</td>\n",
       "      <td>viGPiPuMZnV4PR_aiA3-qw</td>\n",
       "      <td>pNQwnY_q4okdlnPiR-3RBA</td>\n",
       "      <td>Empire Bagels</td>\n",
       "      <td>Food</td>\n",
       "      <td>Las Vegas</td>\n",
       "      <td>NV</td>\n",
       "      <td>36.077299</td>\n",
       "      <td>-115.297979</td>\n",
       "      <td>3.5</td>\n",
       "    </tr>\n",
       "    <tr>\n",
       "      <th>2</th>\n",
       "      <td>2014-07-16</td>\n",
       "      <td>Had red curry chicken, the chicken itself was ...</td>\n",
       "      <td>rwehMCinfBjhZ0IbR1zFBw</td>\n",
       "      <td>shCdCHRbnY5FTMJbWl-myQ</td>\n",
       "      <td>Thai Spices</td>\n",
       "      <td>Thai</td>\n",
       "      <td>Mesa</td>\n",
       "      <td>AZ</td>\n",
       "      <td>33.412708</td>\n",
       "      <td>-111.875803</td>\n",
       "      <td>4.0</td>\n",
       "    </tr>\n",
       "    <tr>\n",
       "      <th>3</th>\n",
       "      <td>2014-07-16</td>\n",
       "      <td>Alright, I gave the restaurant manager ample t...</td>\n",
       "      <td>VWqt5IH8fm-k9M0CKFkJzg</td>\n",
       "      <td>HpaYCM_NCauI72LLXxC6SA</td>\n",
       "      <td>Yonaka Modern Japanese</td>\n",
       "      <td>Tapas/Small Plates</td>\n",
       "      <td>Las Vegas</td>\n",
       "      <td>NV</td>\n",
       "      <td>36.114935</td>\n",
       "      <td>-115.209737</td>\n",
       "      <td>4.5</td>\n",
       "    </tr>\n",
       "    <tr>\n",
       "      <th>4</th>\n",
       "      <td>2014-07-16</td>\n",
       "      <td>Blehhhh :/ this place shouldn't even be in bus...</td>\n",
       "      <td>Y6-0ToMhjBsm8iYEaT2meg</td>\n",
       "      <td>FC4q3hJyF8oo984xoo3RMg</td>\n",
       "      <td>808 Sushi</td>\n",
       "      <td>Sushi Bars</td>\n",
       "      <td>Las Vegas</td>\n",
       "      <td>NV</td>\n",
       "      <td>36.052181</td>\n",
       "      <td>-115.279227</td>\n",
       "      <td>3.5</td>\n",
       "    </tr>\n",
       "  </tbody>\n",
       "</table>\n",
       "</div>"
      ],
      "text/plain": [
       "  Review_Date                                        Review_Text  \\\n",
       "0  2014-07-16                                       okay...so so   \n",
       "1  2014-07-16  Some people complain about the prices but Subw...   \n",
       "2  2014-07-16  Had red curry chicken, the chicken itself was ...   \n",
       "3  2014-07-16  Alright, I gave the restaurant manager ample t...   \n",
       "4  2014-07-16  Blehhhh :/ this place shouldn't even be in bus...   \n",
       "\n",
       "                  User_ID             Business_ID           Business_Name  \\\n",
       "0  6VxJJX7h36bMCCFt7URg6w  9QqLqYIwV-n1BJPjnaYv8A        Beef 'O' Brady's   \n",
       "1  viGPiPuMZnV4PR_aiA3-qw  pNQwnY_q4okdlnPiR-3RBA           Empire Bagels   \n",
       "2  rwehMCinfBjhZ0IbR1zFBw  shCdCHRbnY5FTMJbWl-myQ             Thai Spices   \n",
       "3  VWqt5IH8fm-k9M0CKFkJzg  HpaYCM_NCauI72LLXxC6SA  Yonaka Modern Japanese   \n",
       "4  Y6-0ToMhjBsm8iYEaT2meg  FC4q3hJyF8oo984xoo3RMg               808 Sushi   \n",
       "\n",
       "    Business_Category       City State   Latitude   Longitude  \\\n",
       "0                Bars   Chandler    AZ  33.303847 -111.946838   \n",
       "1                Food  Las Vegas    NV  36.077299 -115.297979   \n",
       "2                Thai       Mesa    AZ  33.412708 -111.875803   \n",
       "3  Tapas/Small Plates  Las Vegas    NV  36.114935 -115.209737   \n",
       "4          Sushi Bars  Las Vegas    NV  36.052181 -115.279227   \n",
       "\n",
       "   Avg_Business_Star_Rating  \n",
       "0                       3.5  \n",
       "1                       3.5  \n",
       "2                       4.0  \n",
       "3                       4.5  \n",
       "4                       3.5  "
      ]
     },
     "execution_count": 5,
     "metadata": {},
     "output_type": "execute_result"
    }
   ],
   "source": [
    "df=pd.read_csv('Section 1 data.csv')\n",
    "df.head()"
   ]
  },
  {
   "cell_type": "code",
   "execution_count": 23,
   "id": "a2a15f1e",
   "metadata": {},
   "outputs": [
    {
     "data": {
      "text/plain": [
       "30276"
      ]
     },
     "execution_count": 23,
     "metadata": {},
     "output_type": "execute_result"
    }
   ],
   "source": [
    "#1.\tHow many unique restaurants could be found in this data set? (Hint: Use the [Business_ID] column for this evaluation.) \n",
    "df['Business_ID'].is_unique\n",
    "df.drop_duplicates(subset=['Business_ID'], inplace=False)['Business_ID'].count()"
   ]
  },
  {
   "cell_type": "code",
   "execution_count": 22,
   "id": "60ecc5da",
   "metadata": {},
   "outputs": [
    {
     "data": {
      "text/plain": [
       "30276"
      ]
     },
     "execution_count": 22,
     "metadata": {},
     "output_type": "execute_result"
    }
   ],
   "source": [
    "df.drop_duplicates(subset=['Business_ID'], inplace=False)['Business_ID'].count()"
   ]
  },
  {
   "cell_type": "code",
   "execution_count": 70,
   "id": "e80e5872",
   "metadata": {},
   "outputs": [
    {
     "data": {
      "text/html": [
       "<div>\n",
       "<style scoped>\n",
       "    .dataframe tbody tr th:only-of-type {\n",
       "        vertical-align: middle;\n",
       "    }\n",
       "\n",
       "    .dataframe tbody tr th {\n",
       "        vertical-align: top;\n",
       "    }\n",
       "\n",
       "    .dataframe thead th {\n",
       "        text-align: right;\n",
       "    }\n",
       "</style>\n",
       "<table border=\"1\" class=\"dataframe\">\n",
       "  <thead>\n",
       "    <tr style=\"text-align: right;\">\n",
       "      <th></th>\n",
       "      <th>Review_Date</th>\n",
       "      <th>Review_Text</th>\n",
       "      <th>User_ID</th>\n",
       "      <th>Business_ID</th>\n",
       "      <th>Business_Name</th>\n",
       "      <th>Business_Category</th>\n",
       "      <th>City</th>\n",
       "      <th>State</th>\n",
       "      <th>Latitude</th>\n",
       "      <th>Longitude</th>\n",
       "      <th>Avg_Business_Star_Rating</th>\n",
       "    </tr>\n",
       "  </thead>\n",
       "  <tbody>\n",
       "    <tr>\n",
       "      <th>21</th>\n",
       "      <td>2014-07-16</td>\n",
       "      <td>This place lost two new customers due to a lac...</td>\n",
       "      <td>DiYeEXNHa_FUkjCg7Evp9g</td>\n",
       "      <td>CCHoB_VAjaN6x0GNlgl86w</td>\n",
       "      <td>Times Square Neighborhood Italian Restaurant</td>\n",
       "      <td>Restaurants</td>\n",
       "      <td>Phoenix</td>\n",
       "      <td>AZ</td>\n",
       "      <td>33.654840</td>\n",
       "      <td>-112.065049</td>\n",
       "      <td>3.0</td>\n",
       "    </tr>\n",
       "    <tr>\n",
       "      <th>28</th>\n",
       "      <td>2014-07-16</td>\n",
       "      <td>My hubby and I were driving around for about a...</td>\n",
       "      <td>mKYJEb2E9ZZFv1vNWZhnuA</td>\n",
       "      <td>G90xX0E76dEIq51x4RxtVQ</td>\n",
       "      <td>Zappone's Italian Bistro</td>\n",
       "      <td>Restaurants</td>\n",
       "      <td>Gilbert</td>\n",
       "      <td>AZ</td>\n",
       "      <td>33.380516</td>\n",
       "      <td>-111.724395</td>\n",
       "      <td>4.0</td>\n",
       "    </tr>\n",
       "    <tr>\n",
       "      <th>215</th>\n",
       "      <td>2014-07-16</td>\n",
       "      <td>Our first time. After hearing the commercials ...</td>\n",
       "      <td>cFxVQ0ovR-6HiO8EipBwHA</td>\n",
       "      <td>YJJ1eOz1gdh_bSy8DKmaNQ</td>\n",
       "      <td>The Sicilian Restorante</td>\n",
       "      <td>Restaurants</td>\n",
       "      <td>Las Vegas</td>\n",
       "      <td>NV</td>\n",
       "      <td>36.100336</td>\n",
       "      <td>-115.099161</td>\n",
       "      <td>4.0</td>\n",
       "    </tr>\n",
       "    <tr>\n",
       "      <th>229</th>\n",
       "      <td>2014-07-16</td>\n",
       "      <td>if you sit outside be prepared to wait a long ...</td>\n",
       "      <td>t3ucXJn1uFxA5orzpvVQuA</td>\n",
       "      <td>MdciqXUq0nf-bJHYmI6etw</td>\n",
       "      <td>Bonanno's New York Pizzeria Restaurant &amp; Bar</td>\n",
       "      <td>Restaurants</td>\n",
       "      <td>Las Vegas</td>\n",
       "      <td>NV</td>\n",
       "      <td>36.109068</td>\n",
       "      <td>-115.172557</td>\n",
       "      <td>3.5</td>\n",
       "    </tr>\n",
       "    <tr>\n",
       "      <th>232</th>\n",
       "      <td>2014-07-16</td>\n",
       "      <td>I came here on Mother's day this year with my ...</td>\n",
       "      <td>JatzOG3XS_LMFAoKjOPQug</td>\n",
       "      <td>ZjtM7uKu9ZdsVMj_n5besg</td>\n",
       "      <td>Zeffirino's</td>\n",
       "      <td>Restaurants</td>\n",
       "      <td>Las Vegas</td>\n",
       "      <td>NV</td>\n",
       "      <td>36.121200</td>\n",
       "      <td>-115.170000</td>\n",
       "      <td>5.0</td>\n",
       "    </tr>\n",
       "    <tr>\n",
       "      <th>...</th>\n",
       "      <td>...</td>\n",
       "      <td>...</td>\n",
       "      <td>...</td>\n",
       "      <td>...</td>\n",
       "      <td>...</td>\n",
       "      <td>...</td>\n",
       "      <td>...</td>\n",
       "      <td>...</td>\n",
       "      <td>...</td>\n",
       "      <td>...</td>\n",
       "      <td>...</td>\n",
       "    </tr>\n",
       "    <tr>\n",
       "      <th>227457</th>\n",
       "      <td>2006-01-08</td>\n",
       "      <td>I don't give a lot of restaurants ratings this...</td>\n",
       "      <td>ZvBA5dEJYObIiFB7GPzKFQ</td>\n",
       "      <td>6qXQQOWdUZiJmWVqkWB-3w</td>\n",
       "      <td>Il Fornaio</td>\n",
       "      <td>Restaurants</td>\n",
       "      <td>Las Vegas</td>\n",
       "      <td>NV</td>\n",
       "      <td>36.103001</td>\n",
       "      <td>-115.173516</td>\n",
       "      <td>3.5</td>\n",
       "    </tr>\n",
       "    <tr>\n",
       "      <th>227492</th>\n",
       "      <td>2005-12-10</td>\n",
       "      <td>Passable middle eastern and mediterranean food...</td>\n",
       "      <td>Bvh3IHeMzSPnJAe5QlBsSw</td>\n",
       "      <td>nbpY3tbPrAksoqOrYwlx7Q</td>\n",
       "      <td>Husnu's</td>\n",
       "      <td>Restaurants</td>\n",
       "      <td>Madison</td>\n",
       "      <td>WI</td>\n",
       "      <td>43.074868</td>\n",
       "      <td>-89.395245</td>\n",
       "      <td>3.5</td>\n",
       "    </tr>\n",
       "    <tr>\n",
       "      <th>227527</th>\n",
       "      <td>2005-10-27</td>\n",
       "      <td>some of the best italian and seafood in Las Ve...</td>\n",
       "      <td>ytjqLRFobRxl0DDJgoR-Eg</td>\n",
       "      <td>nNczqTna7cD1bDh0AbEPGQ</td>\n",
       "      <td>Cafe Chloe</td>\n",
       "      <td>Restaurants</td>\n",
       "      <td>Las Vegas</td>\n",
       "      <td>NV</td>\n",
       "      <td>36.113647</td>\n",
       "      <td>-115.261080</td>\n",
       "      <td>3.5</td>\n",
       "    </tr>\n",
       "    <tr>\n",
       "      <th>227534</th>\n",
       "      <td>2005-10-21</td>\n",
       "      <td>Located in the Orleans Hotel, this classy and ...</td>\n",
       "      <td>mA-JeZ5IaTQfKzNAeCYUoQ</td>\n",
       "      <td>II61MipcxrqZunv-bpqSUw</td>\n",
       "      <td>Sazio Italian Dining</td>\n",
       "      <td>Restaurants</td>\n",
       "      <td>Las Vegas</td>\n",
       "      <td>NV</td>\n",
       "      <td>36.102244</td>\n",
       "      <td>-115.200972</td>\n",
       "      <td>2.5</td>\n",
       "    </tr>\n",
       "    <tr>\n",
       "      <th>227540</th>\n",
       "      <td>2005-10-11</td>\n",
       "      <td>My favorite pizza in the world.</td>\n",
       "      <td>6mtHi0gW1AIm4Shdahdd9g</td>\n",
       "      <td>YCKOz3ja7i3nbavwdf6lWQ</td>\n",
       "      <td>Greenbush Bar</td>\n",
       "      <td>Restaurants</td>\n",
       "      <td>Madison</td>\n",
       "      <td>WI</td>\n",
       "      <td>43.067873</td>\n",
       "      <td>-89.401811</td>\n",
       "      <td>4.0</td>\n",
       "    </tr>\n",
       "  </tbody>\n",
       "</table>\n",
       "<p>6513 rows × 11 columns</p>\n",
       "</div>"
      ],
      "text/plain": [
       "       Review_Date                                        Review_Text  \\\n",
       "21      2014-07-16  This place lost two new customers due to a lac...   \n",
       "28      2014-07-16  My hubby and I were driving around for about a...   \n",
       "215     2014-07-16  Our first time. After hearing the commercials ...   \n",
       "229     2014-07-16  if you sit outside be prepared to wait a long ...   \n",
       "232     2014-07-16  I came here on Mother's day this year with my ...   \n",
       "...            ...                                                ...   \n",
       "227457  2006-01-08  I don't give a lot of restaurants ratings this...   \n",
       "227492  2005-12-10  Passable middle eastern and mediterranean food...   \n",
       "227527  2005-10-27  some of the best italian and seafood in Las Ve...   \n",
       "227534  2005-10-21  Located in the Orleans Hotel, this classy and ...   \n",
       "227540  2005-10-11                    My favorite pizza in the world.   \n",
       "\n",
       "                       User_ID             Business_ID  \\\n",
       "21      DiYeEXNHa_FUkjCg7Evp9g  CCHoB_VAjaN6x0GNlgl86w   \n",
       "28      mKYJEb2E9ZZFv1vNWZhnuA  G90xX0E76dEIq51x4RxtVQ   \n",
       "215     cFxVQ0ovR-6HiO8EipBwHA  YJJ1eOz1gdh_bSy8DKmaNQ   \n",
       "229     t3ucXJn1uFxA5orzpvVQuA  MdciqXUq0nf-bJHYmI6etw   \n",
       "232     JatzOG3XS_LMFAoKjOPQug  ZjtM7uKu9ZdsVMj_n5besg   \n",
       "...                        ...                     ...   \n",
       "227457  ZvBA5dEJYObIiFB7GPzKFQ  6qXQQOWdUZiJmWVqkWB-3w   \n",
       "227492  Bvh3IHeMzSPnJAe5QlBsSw  nbpY3tbPrAksoqOrYwlx7Q   \n",
       "227527  ytjqLRFobRxl0DDJgoR-Eg  nNczqTna7cD1bDh0AbEPGQ   \n",
       "227534  mA-JeZ5IaTQfKzNAeCYUoQ  II61MipcxrqZunv-bpqSUw   \n",
       "227540  6mtHi0gW1AIm4Shdahdd9g  YCKOz3ja7i3nbavwdf6lWQ   \n",
       "\n",
       "                                       Business_Name Business_Category  \\\n",
       "21      Times Square Neighborhood Italian Restaurant       Restaurants   \n",
       "28                          Zappone's Italian Bistro       Restaurants   \n",
       "215                          The Sicilian Restorante       Restaurants   \n",
       "229     Bonanno's New York Pizzeria Restaurant & Bar       Restaurants   \n",
       "232                                      Zeffirino's       Restaurants   \n",
       "...                                              ...               ...   \n",
       "227457                                    Il Fornaio       Restaurants   \n",
       "227492                                       Husnu's       Restaurants   \n",
       "227527                                    Cafe Chloe       Restaurants   \n",
       "227534                          Sazio Italian Dining       Restaurants   \n",
       "227540                                 Greenbush Bar       Restaurants   \n",
       "\n",
       "             City State   Latitude   Longitude  Avg_Business_Star_Rating  \n",
       "21        Phoenix    AZ  33.654840 -112.065049                       3.0  \n",
       "28        Gilbert    AZ  33.380516 -111.724395                       4.0  \n",
       "215     Las Vegas    NV  36.100336 -115.099161                       4.0  \n",
       "229     Las Vegas    NV  36.109068 -115.172557                       3.5  \n",
       "232     Las Vegas    NV  36.121200 -115.170000                       5.0  \n",
       "...           ...   ...        ...         ...                       ...  \n",
       "227457  Las Vegas    NV  36.103001 -115.173516                       3.5  \n",
       "227492    Madison    WI  43.074868  -89.395245                       3.5  \n",
       "227527  Las Vegas    NV  36.113647 -115.261080                       3.5  \n",
       "227534  Las Vegas    NV  36.102244 -115.200972                       2.5  \n",
       "227540    Madison    WI  43.067873  -89.401811                       4.0  \n",
       "\n",
       "[6513 rows x 11 columns]"
      ]
     },
     "execution_count": 70,
     "metadata": {},
     "output_type": "execute_result"
    }
   ],
   "source": [
    "#2.\tWhich restaurant received the highest number of reviews? What about percentage-wise?  \n",
    "df_res = df[(df['Business_Category'] == 'Restaurants')]\n",
    "df_res\n",
    "#['Restaurants']"
   ]
  },
  {
   "cell_type": "code",
   "execution_count": 152,
   "id": "f23172de",
   "metadata": {},
   "outputs": [
    {
     "name": "stdout",
     "output_type": "stream",
     "text": [
      "201\n",
      "6513\n",
      "['LAVO Italian Restaurant & Lounge']\n",
      "0.030861354214647627\n"
     ]
    }
   ],
   "source": [
    "df_res1=df_res.groupby('Business_ID')\n",
    "review_count=df_res1['Review_Text'].count()\n",
    "#max reviews\n",
    "print(review_count.max())\n",
    "#total\n",
    "print(review_count.sum())\n",
    "#The name\n",
    "rest_with_max_reviews = review_count[review_count == review_count.max()]\n",
    "rest_name = df_res[df_res['Business_ID'].isin(rest_with_max_reviews.index)]['Business_Name'].unique()\n",
    "print(rest_name)\n",
    "#percentage-wise\n",
    "per=review_count.max()/review_count.sum()\n",
    "print(per)\n",
    "#answer is 3.09%"
   ]
  },
  {
   "cell_type": "code",
   "execution_count": 166,
   "id": "168ce371",
   "metadata": {},
   "outputs": [
    {
     "data": {
      "text/plain": [
       "array(['Las Vegas', 'Henderson', 'Boulder City', 'Nellis'], dtype=object)"
      ]
     },
     "execution_count": 166,
     "metadata": {},
     "output_type": "execute_result"
    }
   ],
   "source": [
    "#3.\tWhich cities have got at least one 5-star review in Nevada (NV) state? \n",
    "df_nv=df[df['State']=='NV']\n",
    "df_nv_star=df_nv[df_nv['Avg_Business_Star_Rating']>=5]\n",
    "df_nv_star['City'].unique()"
   ]
  },
  {
   "cell_type": "code",
   "execution_count": 167,
   "id": "e968497d",
   "metadata": {},
   "outputs": [],
   "source": [
    "#4.\tWhich city has the highest number of reviews in the Business Category of “Hotels & Travel”? What about percentage-wise?\n",
    "df_h = df[(df['Business_Category'] == 'Hotels & Travel')]"
   ]
  },
  {
   "cell_type": "code",
   "execution_count": 175,
   "id": "9b2393b5",
   "metadata": {},
   "outputs": [
    {
     "name": "stdout",
     "output_type": "stream",
     "text": [
      "10245\n",
      "13195\n",
      "['Las Vegas']\n",
      "0.7764304660856385\n"
     ]
    }
   ],
   "source": [
    "df_h1=df_h.groupby('City')\n",
    "review_count=df_h1['Review_Text'].count()\n",
    "#max reviews\n",
    "print(review_count.max())\n",
    "#total\n",
    "print(review_count.sum())\n",
    "#The name\n",
    "h_with_max_reviews = review_count[review_count == review_count.max()]\n",
    "h_name = df_h[df_h['City'].isin(h_with_max_reviews.index)]['City'].unique()\n",
    "print(h_name)\n",
    "#percentage-wise\n",
    "per=review_count.max()/review_count.sum()\n",
    "print(per)\n",
    "#answer is 77.6%"
   ]
  },
  {
   "cell_type": "code",
   "execution_count": 196,
   "id": "8974de6d",
   "metadata": {},
   "outputs": [
    {
     "name": "stdout",
     "output_type": "stream",
     "text": [
      "['Monday']\n"
     ]
    }
   ],
   "source": [
    "#5.\tAt what day of the week people are more likely to post their reviews? \n",
    "df['Review_Date'] = pd.to_datetime(df['Review_Date'])\n",
    "df['Weekday_Name'] = df['Review_Date'].dt.day_name()\n",
    "weekday_name_group = df.groupby('Weekday_Name')['Review_Text'].count()\n",
    "max_day = weekday_name_group[weekday_name_group == weekday_name_group.max()]\n",
    "name = df[df['Weekday_Name'].isin(max_day.index)]['Weekday_Name'].unique()\n",
    "print(name)"
   ]
  },
  {
   "cell_type": "code",
   "execution_count": 201,
   "id": "44577726",
   "metadata": {},
   "outputs": [
    {
     "name": "stderr",
     "output_type": "stream",
     "text": [
      "C:\\Users\\user\\AppData\\Local\\Temp\\ipykernel_6632\\2814944952.py:3: SettingWithCopyWarning: \n",
      "A value is trying to be set on a copy of a slice from a DataFrame.\n",
      "Try using .loc[row_indexer,col_indexer] = value instead\n",
      "\n",
      "See the caveats in the documentation: https://pandas.pydata.org/pandas-docs/stable/user_guide/indexing.html#returning-a-view-versus-a-copy\n",
      "  df_res['Review_Date'] = pd.to_datetime(df_res['Review_Date'])\n",
      "C:\\Users\\user\\AppData\\Local\\Temp\\ipykernel_6632\\2814944952.py:4: SettingWithCopyWarning: \n",
      "A value is trying to be set on a copy of a slice from a DataFrame.\n",
      "Try using .loc[row_indexer,col_indexer] = value instead\n",
      "\n",
      "See the caveats in the documentation: https://pandas.pydata.org/pandas-docs/stable/user_guide/indexing.html#returning-a-view-versus-a-copy\n",
      "  df_res['Year_Month'] = df_res['Review_Date'].dt.to_period('M')\n"
     ]
    },
    {
     "data": {
      "image/png": "[encoded data removed]",
      "text/plain": [
       "<Figure size 720x432 with 1 Axes>"
      ]
     },
     "metadata": {
      "needs_background": "light"
     },
     "output_type": "display_data"
    }
   ],
   "source": [
    "#6.\tShowcase if there are any trends regarding restaurant performance as time goes by. \n",
    "import matplotlib.pyplot as plt\n",
    "df_res['Review_Date'] = pd.to_datetime(df_res['Review_Date'])\n",
    "df_res['Year_Month'] = df_res['Review_Date'].dt.to_period('M')\n",
    "monthly_reviews = df_res.groupby('Year_Month')['Review_Text'].count()\n",
    "\n",
    "\n",
    "monthly_avg_rating = df_res.groupby('Year_Month')['Avg_Business_Star_Rating'].mean()\n",
    "# Plot the trend of average ratings over time\n",
    "plt.figure(figsize=(10,6))\n",
    "monthly_avg_rating.plot(kind='line', marker='o', color='orange')\n",
    "plt.title('Average Rating Over Time')\n",
    "plt.xlabel('Month-Year')\n",
    "plt.ylabel('Average Rating')\n",
    "plt.grid(True)\n",
    "plt.show()\n",
    "#It seems they became more stable"
   ]
  },
  {
   "cell_type": "code",
   "execution_count": 206,
   "id": "bc61480b",
   "metadata": {},
   "outputs": [
    {
     "data": {
      "text/plain": [
       "State\n",
       "AZ     3.667631\n",
       "EDH    3.757732\n",
       "MLN    3.500000\n",
       "NV     3.660709\n",
       "ON     3.543478\n",
       "WI     3.520270\n",
       "Name: Avg_Business_Star_Rating, dtype: float64"
      ]
     },
     "execution_count": 206,
     "metadata": {},
     "output_type": "execute_result"
    }
   ],
   "source": [
    "#7.\tBased on analyzed data showcase if there are any steps that the restaurant can take to improve their public appeal. \n",
    "state_avg_rating = df_res.groupby('State')['Avg_Business_Star_Rating'].mean()\n",
    "state_avg_rating\n",
    "\n",
    "#They can move to EDH State"
   ]
  },
  {
   "cell_type": "code",
   "execution_count": 236,
   "id": "c334a9be",
   "metadata": {},
   "outputs": [],
   "source": [
    "#8.\tBonus Question – Based on this data set which user had the highest cumulative travel distance? \n",
    "#What distance has been covered by him/her?\n",
    "from math import radians, sin, cos, sqrt, atan2\n",
    "def haversine(lat1, lon1, lat2, lon2):\n",
    "    R = 6371.0  # Radius of Earth in kilometers\n",
    "    lat1, lon1, lat2, lon2 = map(radians, [lat1, lon1, lat2, lon2])\n",
    "    dlat = lat2 - lat1\n",
    "    dlon = lon2 - lon1\n",
    "    a = sin(dlat / 2)**2 + cos(lat1) * cos(lat2) * sin(dlon / 2)**2\n",
    "    c = 2 * atan2(sqrt(a), sqrt(1 - a))\n",
    "    return R * c"
   ]
  },
  {
   "cell_type": "code",
   "execution_count": 237,
   "id": "c2763bd3",
   "metadata": {},
   "outputs": [
    {
     "name": "stdout",
     "output_type": "stream",
     "text": [
      "User with the highest cumulative travel distance: FLdun6KWwAh-gC8VHVZGCw\n",
      "Total distance covered by him: 2236.7852442670915 km\n"
     ]
    }
   ],
   "source": [
    "df['Distance'] = np.nan\n",
    "df = df.sort_values(by=['User_ID', 'Review_Date'])\n",
    "for i in range(1, len(df)):\n",
    "    if df.loc[i, 'User_ID'] == df.loc[i-1, 'User_ID']:\n",
    "        lat1, lon1 = df.loc[i-1, ['Latitude', 'Longitude']]\n",
    "        lat2, lon2 = df.loc[i, ['Latitude', 'Longitude']]\n",
    "        df.loc[i, 'Distance'] = haversine(lat1, lon1, lat2, lon2)\n",
    "# cumulative distance for each user\n",
    "df['Cumulative_Distance'] = df.groupby('User_ID')['Distance'].cumsum()\n",
    "\n",
    "# the total distance traveled by each user\n",
    "total_distance_by_user = df.groupby('User_ID')['Distance'].sum().reset_index()\n",
    "\n",
    "# the user with the highest cumulative distance\n",
    "max_travel_user = total_distance_by_user.loc[total_distance_by_user['Distance'].idxmax()]\n",
    "user_with_max_distance = max_travel_user['User_ID']\n",
    "max_distance_covered = max_travel_user['Distance']\n",
    "\n",
    "print(f\"User with the highest cumulative travel distance: {user_with_max_distance}\")\n",
    "print(f\"Total distance covered by him: {max_distance_covered} km\")"
   ]
  },
  {
   "cell_type": "code",
   "execution_count": null,
   "id": "927fe9d0",
   "metadata": {},
   "outputs": [],
   "source": []
  },
  {
   "cell_type": "code",
   "execution_count": null,
   "id": "5e9386cb",
   "metadata": {},
   "outputs": [],
   "source": []
  }
 ],
 "metadata": {
  "kernelspec": {
   "display_name": "Python 3 (ipykernel)",
   "language": "python",
   "name": "python3"
  },
  "language_info": {
   "codemirror_mode": {
    "name": "ipython",
    "version": 3
   },
   "file_extension": ".py",
   "mimetype": "text/x-python",
   "name": "python",
   "nbconvert_exporter": "python",
   "pygments_lexer": "ipython3",
   "version": "3.9.12"
  }
 },
 "nbformat": 4,
 "nbformat_minor": 5
}
